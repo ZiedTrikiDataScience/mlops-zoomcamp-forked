{
 "cells": [
  {
   "cell_type": "markdown",
   "metadata": {},
   "source": [
    "## MLflow's Model Registry"
   ]
  },
  {
   "cell_type": "code",
   "execution_count": 1,
   "metadata": {},
   "outputs": [
    {
     "name": "stdout",
     "output_type": "stream",
     "text": [
      "Python 3.11.3\n"
     ]
    },
    {
     "name": "stderr",
     "output_type": "stream",
     "text": [
      "'DOSKEY' is not recognized as an internal or external command,\n",
      "operable program or batch file.\n"
     ]
    }
   ],
   "source": [
    "!python -V"
   ]
  },
  {
   "cell_type": "markdown",
   "metadata": {},
   "source": [
    "### Interacting with the MLflow tracking server\n",
    "\n",
    "The `MlflowClient` object allows us to interact with...\n",
    "- an MLflow Tracking Server that creates and manages experiments and runs.\n",
    "- an MLflow Registry Server that creates and manages registered models and model versions. \n",
    "\n",
    "To instantiate it we need to pass a tracking URI and/or a registry URI"
   ]
  },
  {
   "cell_type": "code",
   "execution_count": 28,
   "metadata": {},
   "outputs": [],
   "source": [
    "import mlflow\n",
    "\n",
    "from mlflow.tracking import  MlflowClient\n",
    "\n",
    "MLFLOW_TRACKING_URI = \"sqlite:///mlflow.db\"\n",
    "\n",
    "client = MlflowClient(tracking_uri=MLFLOW_TRACKING_URI)\n",
    "\n",
    "#client.list_experiments()"
   ]
  },
  {
   "cell_type": "code",
   "execution_count": 5,
   "metadata": {},
   "outputs": [
    {
     "data": {
      "text/plain": [
       "'15'"
      ]
     },
     "execution_count": 5,
     "metadata": {},
     "output_type": "execute_result"
    }
   ],
   "source": [
    "client.create_experiment(name=\"Zied_mlops_created_experiment\")"
   ]
  },
  {
   "cell_type": "markdown",
   "metadata": {},
   "source": [
    "Let's check the versions and runs for the experiment with the id = 11"
   ]
  },
  {
   "cell_type": "code",
   "execution_count": 21,
   "metadata": {},
   "outputs": [],
   "source": [
    "from mlflow.entities import ViewType\n",
    "\n",
    "runs = client.search_runs(\n",
    "    experiment_ids='11',\n",
    "    filter_string=\"metrics.rmse < 7\",\n",
    "    run_view_type=ViewType.ACTIVE_ONLY,\n",
    "    max_results=5,\n",
    "    order_by=[\"metrics.rmse ASC\"]\n",
    ")"
   ]
  },
  {
   "cell_type": "code",
   "execution_count": 22,
   "metadata": {},
   "outputs": [
    {
     "name": "stdout",
     "output_type": "stream",
     "text": [
      "The run id is:  6428d77aaa4d4d9797ae5f252be8ed57 The RMSE is :  1.22981112337533\n",
      "The run id is:  ac9fad70fb7a49d0b4ad0c8000deb9ee The RMSE is :  2.4016682868195383\n",
      "The run id is:  62865705804f4e1aad05e2813377e1e0 The RMSE is :  4.471783568122122\n",
      "The run id is:  30b926fa88864aa5a3f18237694c47b4 The RMSE is :  4.476197331678368\n",
      "The run id is:  e919216ab74c48f9950ab1ca69c313c3 The RMSE is :  4.749808923346983\n",
      "The run id is:  183272fc2ce14e6fbb1e57d0ed2333ad The RMSE is :  4.9671995097473385\n",
      "The run id is:  15f3b3ee92384ebabaa4dfa0a1f6de34 The RMSE is :  5.041493350185599\n",
      "The run id is:  160c9c64657c4a6cb7405ba1bcfc5ae3 The RMSE is :  5.878874721516509\n"
     ]
    }
   ],
   "source": [
    "for run in runs:\n",
    "    print(\"The run id is: \", run.info.run_id , \"The RMSE is : \", run.data.metrics['rmse'])"
   ]
  },
  {
   "cell_type": "code",
   "execution_count": 19,
   "metadata": {},
   "outputs": [
    {
     "name": "stdout",
     "output_type": "stream",
     "text": [
      "run id: 6428d77aaa4d4d9797ae5f252be8ed57, rmse: 1.2298\n",
      "run id: ac9fad70fb7a49d0b4ad0c8000deb9ee, rmse: 2.4017\n",
      "run id: 62865705804f4e1aad05e2813377e1e0, rmse: 4.4718\n",
      "run id: 30b926fa88864aa5a3f18237694c47b4, rmse: 4.4762\n",
      "run id: e919216ab74c48f9950ab1ca69c313c3, rmse: 4.7498\n"
     ]
    }
   ],
   "source": [
    "for run in runs:\n",
    "    print(f\"run id: {run.info.run_id}, rmse: {run.data.metrics['rmse']:.4f}\")"
   ]
  },
  {
   "cell_type": "code",
   "execution_count": null,
   "metadata": {},
   "outputs": [],
   "source": []
  },
  {
   "cell_type": "markdown",
   "metadata": {},
   "source": [
    "### Interacting with the Model Registry\n",
    "\n",
    "In this section We will use the `MlflowClient` instance to:\n",
    "\n",
    "1. Register a new version for the experiment `nyc-taxi-regressor`\n",
    "2. Retrieve the latests versions of the model `nyc-taxi-regressor` and check that a new version `4` was created.\n",
    "3. Transition the version `4` to \"Staging\" and adding annotations to it."
   ]
  },
  {
   "cell_type": "code",
   "execution_count": 46,
   "metadata": {},
   "outputs": [],
   "source": [
    "import mlflow\n",
    "\n",
    "mlflow.set_tracking_uri(MLFLOW_TRACKING_URI)"
   ]
  },
  {
   "cell_type": "code",
   "execution_count": 25,
   "metadata": {},
   "outputs": [
    {
     "name": "stderr",
     "output_type": "stream",
     "text": [
      "Successfully registered model 'Xgboost Model'.\n"
     ]
    },
    {
     "ename": "MissingConfigException",
     "evalue": "Yaml file 'C:\\Users\\Ikram\\OneDrive - NOVAIMS\\Desktop\\MLOps\\mlops-zoomcamp-forked\\02-experiment-tracking\\mlruns\\11\\e919216ab74c48f9950ab1ca69c313c3\\meta.yaml' does not exist.",
     "output_type": "error",
     "traceback": [
      "\u001b[1;31m---------------------------------------------------------------------------\u001b[0m",
      "\u001b[1;31mMissingConfigException\u001b[0m                    Traceback (most recent call last)",
      "Cell \u001b[1;32mIn[25], line 3\u001b[0m\n\u001b[0;32m      1\u001b[0m run_id \u001b[39m=\u001b[39m \u001b[39m\"\u001b[39m\u001b[39me919216ab74c48f9950ab1ca69c313c3\u001b[39m\u001b[39m\"\u001b[39m\n\u001b[0;32m      2\u001b[0m model_uri \u001b[39m=\u001b[39m \u001b[39mf\u001b[39m\u001b[39m\"\u001b[39m\u001b[39mruns:/\u001b[39m\u001b[39m{\u001b[39;00mrun_id\u001b[39m}\u001b[39;00m\u001b[39m/model\u001b[39m\u001b[39m\"\u001b[39m\n\u001b[1;32m----> 3\u001b[0m mlflow\u001b[39m.\u001b[39;49mregister_model(model_uri\u001b[39m=\u001b[39;49mmodel_uri, name\u001b[39m=\u001b[39;49m\u001b[39m\"\u001b[39;49m\u001b[39mXgboost Model\u001b[39;49m\u001b[39m\"\u001b[39;49m)\n",
      "File \u001b[1;32mc:\\Users\\Ikram\\anaconda3\\envs\\zied\\Lib\\site-packages\\mlflow\\tracking\\_model_registry\\fluent.py:90\u001b[0m, in \u001b[0;36mregister_model\u001b[1;34m(model_uri, name, await_registration_for, tags)\u001b[0m\n\u001b[0;32m     87\u001b[0m         \u001b[39mraise\u001b[39;00m e\n\u001b[0;32m     89\u001b[0m \u001b[39mif\u001b[39;00m RunsArtifactRepository\u001b[39m.\u001b[39mis_runs_uri(model_uri):\n\u001b[1;32m---> 90\u001b[0m     source \u001b[39m=\u001b[39m RunsArtifactRepository\u001b[39m.\u001b[39;49mget_underlying_uri(model_uri)\n\u001b[0;32m     91\u001b[0m     (run_id, _) \u001b[39m=\u001b[39m RunsArtifactRepository\u001b[39m.\u001b[39mparse_runs_uri(model_uri)\n\u001b[0;32m     92\u001b[0m     create_version_response \u001b[39m=\u001b[39m client\u001b[39m.\u001b[39mcreate_model_version(\n\u001b[0;32m     93\u001b[0m         name, source, run_id, tags\u001b[39m=\u001b[39mtags, await_creation_for\u001b[39m=\u001b[39mawait_registration_for\n\u001b[0;32m     94\u001b[0m     )\n",
      "File \u001b[1;32mc:\\Users\\Ikram\\anaconda3\\envs\\zied\\Lib\\site-packages\\mlflow\\store\\artifact\\runs_artifact_repo.py:39\u001b[0m, in \u001b[0;36mRunsArtifactRepository.get_underlying_uri\u001b[1;34m(runs_uri)\u001b[0m\n\u001b[0;32m     37\u001b[0m (run_id, artifact_path) \u001b[39m=\u001b[39m RunsArtifactRepository\u001b[39m.\u001b[39mparse_runs_uri(runs_uri)\n\u001b[0;32m     38\u001b[0m tracking_uri \u001b[39m=\u001b[39m get_databricks_profile_uri_from_artifact_uri(runs_uri)\n\u001b[1;32m---> 39\u001b[0m uri \u001b[39m=\u001b[39m get_artifact_uri(run_id, artifact_path, tracking_uri)\n\u001b[0;32m     40\u001b[0m \u001b[39massert\u001b[39;00m \u001b[39mnot\u001b[39;00m RunsArtifactRepository\u001b[39m.\u001b[39mis_runs_uri(uri)  \u001b[39m# avoid an infinite loop\u001b[39;00m\n\u001b[0;32m     41\u001b[0m \u001b[39mreturn\u001b[39;00m add_databricks_profile_info_to_artifact_uri(uri, tracking_uri)\n",
      "File \u001b[1;32mc:\\Users\\Ikram\\anaconda3\\envs\\zied\\Lib\\site-packages\\mlflow\\tracking\\artifact_utils.py:47\u001b[0m, in \u001b[0;36mget_artifact_uri\u001b[1;34m(run_id, artifact_path, tracking_uri)\u001b[0m\n\u001b[0;32m     41\u001b[0m     \u001b[39mraise\u001b[39;00m MlflowException(\n\u001b[0;32m     42\u001b[0m         message\u001b[39m=\u001b[39m\u001b[39m\"\u001b[39m\u001b[39mA run_id must be specified in order to obtain an artifact uri!\u001b[39m\u001b[39m\"\u001b[39m,\n\u001b[0;32m     43\u001b[0m         error_code\u001b[39m=\u001b[39mINVALID_PARAMETER_VALUE,\n\u001b[0;32m     44\u001b[0m     )\n\u001b[0;32m     46\u001b[0m store \u001b[39m=\u001b[39m _get_store(tracking_uri)\n\u001b[1;32m---> 47\u001b[0m run \u001b[39m=\u001b[39m store\u001b[39m.\u001b[39;49mget_run(run_id)\n\u001b[0;32m     48\u001b[0m \u001b[39m# Maybe move this method to RunsArtifactRepository so the circular dependency is clearer.\u001b[39;00m\n\u001b[0;32m     49\u001b[0m \u001b[39massert\u001b[39;00m urllib\u001b[39m.\u001b[39mparse\u001b[39m.\u001b[39murlparse(run\u001b[39m.\u001b[39minfo\u001b[39m.\u001b[39martifact_uri)\u001b[39m.\u001b[39mscheme \u001b[39m!=\u001b[39m \u001b[39m\"\u001b[39m\u001b[39mruns\u001b[39m\u001b[39m\"\u001b[39m  \u001b[39m# avoid an infinite loop\u001b[39;00m\n",
      "File \u001b[1;32mc:\\Users\\Ikram\\anaconda3\\envs\\zied\\Lib\\site-packages\\mlflow\\store\\tracking\\file_store.py:656\u001b[0m, in \u001b[0;36mFileStore.get_run\u001b[1;34m(self, run_id)\u001b[0m\n\u001b[0;32m    652\u001b[0m \u001b[39m\u001b[39m\u001b[39m\"\"\"\u001b[39;00m\n\u001b[0;32m    653\u001b[0m \u001b[39mNote: Will get both active and deleted runs.\u001b[39;00m\n\u001b[0;32m    654\u001b[0m \u001b[39m\"\"\"\u001b[39;00m\n\u001b[0;32m    655\u001b[0m _validate_run_id(run_id)\n\u001b[1;32m--> 656\u001b[0m run_info \u001b[39m=\u001b[39m \u001b[39mself\u001b[39;49m\u001b[39m.\u001b[39;49m_get_run_info(run_id)\n\u001b[0;32m    657\u001b[0m \u001b[39mif\u001b[39;00m run_info \u001b[39mis\u001b[39;00m \u001b[39mNone\u001b[39;00m:\n\u001b[0;32m    658\u001b[0m     \u001b[39mraise\u001b[39;00m MlflowException(\n\u001b[0;32m    659\u001b[0m         \u001b[39m\"\u001b[39m\u001b[39mRun \u001b[39m\u001b[39m'\u001b[39m\u001b[39m%s\u001b[39;00m\u001b[39m'\u001b[39m\u001b[39m metadata is in invalid state.\u001b[39m\u001b[39m\"\u001b[39m \u001b[39m%\u001b[39m run_id, databricks_pb2\u001b[39m.\u001b[39mINVALID_STATE\n\u001b[0;32m    660\u001b[0m     )\n",
      "File \u001b[1;32mc:\\Users\\Ikram\\anaconda3\\envs\\zied\\Lib\\site-packages\\mlflow\\store\\tracking\\file_store.py:683\u001b[0m, in \u001b[0;36mFileStore._get_run_info\u001b[1;34m(self, run_uuid)\u001b[0m\n\u001b[0;32m    679\u001b[0m \u001b[39mif\u001b[39;00m run_dir \u001b[39mis\u001b[39;00m \u001b[39mNone\u001b[39;00m:\n\u001b[0;32m    680\u001b[0m     \u001b[39mraise\u001b[39;00m MlflowException(\n\u001b[0;32m    681\u001b[0m         \u001b[39m\"\u001b[39m\u001b[39mRun \u001b[39m\u001b[39m'\u001b[39m\u001b[39m%s\u001b[39;00m\u001b[39m'\u001b[39m\u001b[39m not found\u001b[39m\u001b[39m\"\u001b[39m \u001b[39m%\u001b[39m run_uuid, databricks_pb2\u001b[39m.\u001b[39mRESOURCE_DOES_NOT_EXIST\n\u001b[0;32m    682\u001b[0m     )\n\u001b[1;32m--> 683\u001b[0m run_info \u001b[39m=\u001b[39m \u001b[39mself\u001b[39;49m\u001b[39m.\u001b[39;49m_get_run_info_from_dir(run_dir)\n\u001b[0;32m    684\u001b[0m \u001b[39mif\u001b[39;00m run_info\u001b[39m.\u001b[39mexperiment_id \u001b[39m!=\u001b[39m exp_id:\n\u001b[0;32m    685\u001b[0m     \u001b[39mraise\u001b[39;00m MlflowException(\n\u001b[0;32m    686\u001b[0m         \u001b[39m\"\u001b[39m\u001b[39mRun \u001b[39m\u001b[39m'\u001b[39m\u001b[39m%s\u001b[39;00m\u001b[39m'\u001b[39m\u001b[39m metadata is in invalid state.\u001b[39m\u001b[39m\"\u001b[39m \u001b[39m%\u001b[39m run_uuid, databricks_pb2\u001b[39m.\u001b[39mINVALID_STATE\n\u001b[0;32m    687\u001b[0m     )\n",
      "File \u001b[1;32mc:\\Users\\Ikram\\anaconda3\\envs\\zied\\Lib\\site-packages\\mlflow\\store\\tracking\\file_store.py:691\u001b[0m, in \u001b[0;36mFileStore._get_run_info_from_dir\u001b[1;34m(self, run_dir)\u001b[0m\n\u001b[0;32m    690\u001b[0m \u001b[39mdef\u001b[39;00m \u001b[39m_get_run_info_from_dir\u001b[39m(\u001b[39mself\u001b[39m, run_dir):\n\u001b[1;32m--> 691\u001b[0m     meta \u001b[39m=\u001b[39m FileStore\u001b[39m.\u001b[39;49m_read_yaml(run_dir, FileStore\u001b[39m.\u001b[39;49mMETA_DATA_FILE_NAME)\n\u001b[0;32m    692\u001b[0m     run_info \u001b[39m=\u001b[39m _read_persisted_run_info_dict(meta)\n\u001b[0;32m    693\u001b[0m     \u001b[39mreturn\u001b[39;00m run_info\n",
      "File \u001b[1;32mc:\\Users\\Ikram\\anaconda3\\envs\\zied\\Lib\\site-packages\\mlflow\\store\\tracking\\file_store.py:1239\u001b[0m, in \u001b[0;36mFileStore._read_yaml\u001b[1;34m(root, file_name, retries)\u001b[0m\n\u001b[0;32m   1236\u001b[0m         time\u001b[39m.\u001b[39msleep(\u001b[39m0.1\u001b[39m \u001b[39m*\u001b[39m (\u001b[39m3\u001b[39m \u001b[39m-\u001b[39m attempts_remaining))\n\u001b[0;32m   1237\u001b[0m         \u001b[39mreturn\u001b[39;00m _read_helper(root, file_name, attempts_remaining \u001b[39m-\u001b[39m \u001b[39m1\u001b[39m)\n\u001b[1;32m-> 1239\u001b[0m \u001b[39mreturn\u001b[39;00m _read_helper(root, file_name, attempts_remaining\u001b[39m=\u001b[39;49mretries)\n",
      "File \u001b[1;32mc:\\Users\\Ikram\\anaconda3\\envs\\zied\\Lib\\site-packages\\mlflow\\store\\tracking\\file_store.py:1232\u001b[0m, in \u001b[0;36mFileStore._read_yaml.<locals>._read_helper\u001b[1;34m(root, file_name, attempts_remaining)\u001b[0m\n\u001b[0;32m   1231\u001b[0m \u001b[39mdef\u001b[39;00m \u001b[39m_read_helper\u001b[39m(root, file_name, attempts_remaining\u001b[39m=\u001b[39m\u001b[39m2\u001b[39m):\n\u001b[1;32m-> 1232\u001b[0m     result \u001b[39m=\u001b[39m read_yaml(root, file_name)\n\u001b[0;32m   1233\u001b[0m     \u001b[39mif\u001b[39;00m result \u001b[39mis\u001b[39;00m \u001b[39mnot\u001b[39;00m \u001b[39mNone\u001b[39;00m \u001b[39mor\u001b[39;00m attempts_remaining \u001b[39m==\u001b[39m \u001b[39m0\u001b[39m:\n\u001b[0;32m   1234\u001b[0m         \u001b[39mreturn\u001b[39;00m result\n",
      "File \u001b[1;32mc:\\Users\\Ikram\\anaconda3\\envs\\zied\\Lib\\site-packages\\mlflow\\utils\\file_utils.py:226\u001b[0m, in \u001b[0;36mread_yaml\u001b[1;34m(root, file_name)\u001b[0m\n\u001b[0;32m    224\u001b[0m file_path \u001b[39m=\u001b[39m os\u001b[39m.\u001b[39mpath\u001b[39m.\u001b[39mjoin(root, file_name)\n\u001b[0;32m    225\u001b[0m \u001b[39mif\u001b[39;00m \u001b[39mnot\u001b[39;00m exists(file_path):\n\u001b[1;32m--> 226\u001b[0m     \u001b[39mraise\u001b[39;00m MissingConfigException(\u001b[39m\"\u001b[39m\u001b[39mYaml file \u001b[39m\u001b[39m'\u001b[39m\u001b[39m%s\u001b[39;00m\u001b[39m'\u001b[39m\u001b[39m does not exist.\u001b[39m\u001b[39m\"\u001b[39m \u001b[39m%\u001b[39m file_path)\n\u001b[0;32m    227\u001b[0m \u001b[39mtry\u001b[39;00m:\n\u001b[0;32m    228\u001b[0m     \u001b[39mwith\u001b[39;00m codecs\u001b[39m.\u001b[39mopen(file_path, mode\u001b[39m=\u001b[39m\u001b[39m\"\u001b[39m\u001b[39mr\u001b[39m\u001b[39m\"\u001b[39m, encoding\u001b[39m=\u001b[39mENCODING) \u001b[39mas\u001b[39;00m yaml_file:\n",
      "\u001b[1;31mMissingConfigException\u001b[0m: Yaml file 'C:\\Users\\Ikram\\OneDrive - NOVAIMS\\Desktop\\MLOps\\mlops-zoomcamp-forked\\02-experiment-tracking\\mlruns\\11\\e919216ab74c48f9950ab1ca69c313c3\\meta.yaml' does not exist."
     ]
    }
   ],
   "source": [
    "run_id = \"e919216ab74c48f9950ab1ca69c313c3\"\n",
    "model_uri = f\"runs:/{run_id}/model\"\n",
    "mlflow.register_model(model_uri=model_uri, name=\"Xgboost Model\")"
   ]
  },
  {
   "cell_type": "code",
   "execution_count": 26,
   "metadata": {},
   "outputs": [
    {
     "name": "stderr",
     "output_type": "stream",
     "text": [
      "2023/07/14 21:25:19 INFO mlflow.store.db.utils: Creating initial MLflow database tables...\n",
      "2023/07/14 21:25:19 INFO mlflow.store.db.utils: Updating database tables\n",
      "INFO  [alembic.runtime.migration] Context impl SQLiteImpl.\n",
      "INFO  [alembic.runtime.migration] Will assume non-transactional DDL.\n"
     ]
    },
    {
     "ename": "MlflowException",
     "evalue": "Registered Model with name=Xgboost Model not found",
     "output_type": "error",
     "traceback": [
      "\u001b[1;31m---------------------------------------------------------------------------\u001b[0m",
      "\u001b[1;31mMlflowException\u001b[0m                           Traceback (most recent call last)",
      "Cell \u001b[1;32mIn[26], line 1\u001b[0m\n\u001b[1;32m----> 1\u001b[0m client\u001b[39m.\u001b[39;49mget_latest_versions(name\u001b[39m=\u001b[39;49m\u001b[39m\"\u001b[39;49m\u001b[39mXgboost Model\u001b[39;49m\u001b[39m\"\u001b[39;49m)\n",
      "File \u001b[1;32mc:\\Users\\Ikram\\anaconda3\\envs\\zied\\Lib\\site-packages\\mlflow\\tracking\\client.py:2425\u001b[0m, in \u001b[0;36mMlflowClient.get_latest_versions\u001b[1;34m(self, name, stages)\u001b[0m\n\u001b[0;32m   2353\u001b[0m \u001b[39mdef\u001b[39;00m \u001b[39mget_latest_versions\u001b[39m(\u001b[39mself\u001b[39m, name: \u001b[39mstr\u001b[39m, stages: List[\u001b[39mstr\u001b[39m] \u001b[39m=\u001b[39m \u001b[39mNone\u001b[39;00m) \u001b[39m-\u001b[39m\u001b[39m>\u001b[39m List[ModelVersion]:\n\u001b[0;32m   2354\u001b[0m \u001b[39m    \u001b[39m\u001b[39m\"\"\"\u001b[39;00m\n\u001b[0;32m   2355\u001b[0m \u001b[39m    Latest version models for each requests stage. If no ``stages`` provided, returns the\u001b[39;00m\n\u001b[0;32m   2356\u001b[0m \u001b[39m    latest version for each stage.\u001b[39;00m\n\u001b[1;32m   (...)\u001b[0m\n\u001b[0;32m   2423\u001b[0m \u001b[39m        current_stage: None\u001b[39;00m\n\u001b[0;32m   2424\u001b[0m \u001b[39m    \"\"\"\u001b[39;00m\n\u001b[1;32m-> 2425\u001b[0m     \u001b[39mreturn\u001b[39;00m \u001b[39mself\u001b[39;49m\u001b[39m.\u001b[39;49m_get_registry_client()\u001b[39m.\u001b[39;49mget_latest_versions(name, stages)\n",
      "File \u001b[1;32mc:\\Users\\Ikram\\anaconda3\\envs\\zied\\Lib\\site-packages\\mlflow\\tracking\\_model_registry\\client.py:140\u001b[0m, in \u001b[0;36mModelRegistryClient.get_latest_versions\u001b[1;34m(self, name, stages)\u001b[0m\n\u001b[0;32m    130\u001b[0m \u001b[39mdef\u001b[39;00m \u001b[39mget_latest_versions\u001b[39m(\u001b[39mself\u001b[39m, name, stages\u001b[39m=\u001b[39m\u001b[39mNone\u001b[39;00m):\n\u001b[0;32m    131\u001b[0m \u001b[39m    \u001b[39m\u001b[39m\"\"\"\u001b[39;00m\n\u001b[0;32m    132\u001b[0m \u001b[39m    Latest version models for each requests stage. If no ``stages`` provided, returns the\u001b[39;00m\n\u001b[0;32m    133\u001b[0m \u001b[39m    latest version for each stage.\u001b[39;00m\n\u001b[1;32m   (...)\u001b[0m\n\u001b[0;32m    138\u001b[0m \u001b[39m    :return: List of :py:class:`mlflow.entities.model_registry.ModelVersion` objects.\u001b[39;00m\n\u001b[0;32m    139\u001b[0m \u001b[39m    \"\"\"\u001b[39;00m\n\u001b[1;32m--> 140\u001b[0m     \u001b[39mreturn\u001b[39;00m \u001b[39mself\u001b[39;49m\u001b[39m.\u001b[39;49mstore\u001b[39m.\u001b[39;49mget_latest_versions(name, stages)\n",
      "File \u001b[1;32mc:\\Users\\Ikram\\anaconda3\\envs\\zied\\Lib\\site-packages\\mlflow\\store\\model_registry\\sqlalchemy_store.py:557\u001b[0m, in \u001b[0;36mSqlAlchemyStore.get_latest_versions\u001b[1;34m(self, name, stages)\u001b[0m\n\u001b[0;32m    547\u001b[0m \u001b[39m\u001b[39m\u001b[39m\"\"\"\u001b[39;00m\n\u001b[0;32m    548\u001b[0m \u001b[39mLatest version models for each requested stage. If no ``stages`` argument is provided,\u001b[39;00m\n\u001b[0;32m    549\u001b[0m \u001b[39mreturns the latest version for each stage.\u001b[39;00m\n\u001b[1;32m   (...)\u001b[0m\n\u001b[0;32m    554\u001b[0m \u001b[39m:return: List of :py:class:`mlflow.entities.model_registry.ModelVersion` objects.\u001b[39;00m\n\u001b[0;32m    555\u001b[0m \u001b[39m\"\"\"\u001b[39;00m\n\u001b[0;32m    556\u001b[0m \u001b[39mwith\u001b[39;00m \u001b[39mself\u001b[39m\u001b[39m.\u001b[39mManagedSessionMaker() \u001b[39mas\u001b[39;00m session:\n\u001b[1;32m--> 557\u001b[0m     sql_registered_model \u001b[39m=\u001b[39m \u001b[39mself\u001b[39;49m\u001b[39m.\u001b[39;49m_get_registered_model(session, name)\n\u001b[0;32m    558\u001b[0m     \u001b[39m# Convert to RegisteredModel entity first and then extract latest_versions\u001b[39;00m\n\u001b[0;32m    559\u001b[0m     latest_versions \u001b[39m=\u001b[39m sql_registered_model\u001b[39m.\u001b[39mto_mlflow_entity()\u001b[39m.\u001b[39mlatest_versions\n",
      "File \u001b[1;32mc:\\Users\\Ikram\\anaconda3\\envs\\zied\\Lib\\site-packages\\mlflow\\store\\model_registry\\sqlalchemy_store.py:219\u001b[0m, in \u001b[0;36mSqlAlchemyStore._get_registered_model\u001b[1;34m(cls, session, name, eager)\u001b[0m\n\u001b[0;32m    211\u001b[0m rms \u001b[39m=\u001b[39m (\n\u001b[0;32m    212\u001b[0m     session\u001b[39m.\u001b[39mquery(SqlRegisteredModel)\n\u001b[0;32m    213\u001b[0m     \u001b[39m.\u001b[39moptions(\u001b[39m*\u001b[39mquery_options)\n\u001b[0;32m    214\u001b[0m     \u001b[39m.\u001b[39mfilter(SqlRegisteredModel\u001b[39m.\u001b[39mname \u001b[39m==\u001b[39m name)\n\u001b[0;32m    215\u001b[0m     \u001b[39m.\u001b[39mall()\n\u001b[0;32m    216\u001b[0m )\n\u001b[0;32m    218\u001b[0m \u001b[39mif\u001b[39;00m \u001b[39mlen\u001b[39m(rms) \u001b[39m==\u001b[39m \u001b[39m0\u001b[39m:\n\u001b[1;32m--> 219\u001b[0m     \u001b[39mraise\u001b[39;00m MlflowException(\n\u001b[0;32m    220\u001b[0m         \u001b[39mf\u001b[39m\u001b[39m\"\u001b[39m\u001b[39mRegistered Model with name=\u001b[39m\u001b[39m{\u001b[39;00mname\u001b[39m}\u001b[39;00m\u001b[39m not found\u001b[39m\u001b[39m\"\u001b[39m, RESOURCE_DOES_NOT_EXIST\n\u001b[0;32m    221\u001b[0m     )\n\u001b[0;32m    222\u001b[0m \u001b[39mif\u001b[39;00m \u001b[39mlen\u001b[39m(rms) \u001b[39m>\u001b[39m \u001b[39m1\u001b[39m:\n\u001b[0;32m    223\u001b[0m     \u001b[39mraise\u001b[39;00m MlflowException(\n\u001b[0;32m    224\u001b[0m         \u001b[39m\"\u001b[39m\u001b[39mExpected only 1 registered model with name=\u001b[39m\u001b[39m{}\u001b[39;00m\u001b[39m. \u001b[39m\u001b[39m\"\u001b[39m\n\u001b[0;32m    225\u001b[0m         \u001b[39m\"\u001b[39m\u001b[39mFound \u001b[39m\u001b[39m{}\u001b[39;00m\u001b[39m.\u001b[39m\u001b[39m\"\u001b[39m\u001b[39m.\u001b[39mformat(name, \u001b[39mlen\u001b[39m(rms)),\n\u001b[0;32m    226\u001b[0m         INVALID_STATE,\n\u001b[0;32m    227\u001b[0m     )\n",
      "\u001b[1;31mMlflowException\u001b[0m: Registered Model with name=Xgboost Model not found"
     ]
    }
   ],
   "source": [
    "client.get_latest_versions(name=\"Xgboost Model\")"
   ]
  },
  {
   "cell_type": "code",
   "execution_count": 26,
   "metadata": {},
   "outputs": [
    {
     "name": "stdout",
     "output_type": "stream",
     "text": [
      "version: 1, stage: Staging\n",
      "version: 2, stage: Production\n",
      "version: 4, stage: None\n"
     ]
    }
   ],
   "source": [
    "model_name = \"nyc-taxi-regressor\"\n",
    "latest_versions = client.get_latest_versions(name=model_name)\n",
    "\n",
    "for version in latest_versions :\n",
    "    print(f\"version: {version.version}, stage: {version.current_stage}\")"
   ]
  },
  {
   "cell_type": "code",
   "execution_count": 32,
   "metadata": {},
   "outputs": [
    {
     "data": {
      "text/plain": [
       "<ModelVersion: creation_timestamp=1652971637398, current_stage='Staging', description='The model version 4 was transitioned to Staging on 2022-05-19', last_updated_timestamp=1652972141519, name='nyc-taxi-regressor', run_id='b8904012c84343b5bf8ee72aa8f0f402', run_link=None, source='./mlruns/1/b8904012c84343b5bf8ee72aa8f0f402/artifacts/model', status='READY', status_message=None, tags={}, user_id=None, version=4>"
      ]
     },
     "execution_count": 32,
     "metadata": {},
     "output_type": "execute_result"
    }
   ],
   "source": [
    "model_version = 4\n",
    "new_stage = \"Staging\"\n",
    "client.transition_model_version_stage(\n",
    "    name=model_name,\n",
    "    version=model_version,\n",
    "    stage=new_stage,\n",
    "    archive_existing_versions=False\n",
    ")"
   ]
  },
  {
   "cell_type": "code",
   "execution_count": 33,
   "metadata": {},
   "outputs": [
    {
     "data": {
      "text/plain": [
       "<ModelVersion: creation_timestamp=1652971637398, current_stage='Staging', description='The model version 4 was transitioned to Staging on 2022-05-19', last_updated_timestamp=1652972142779, name='nyc-taxi-regressor', run_id='b8904012c84343b5bf8ee72aa8f0f402', run_link=None, source='./mlruns/1/b8904012c84343b5bf8ee72aa8f0f402/artifacts/model', status='READY', status_message=None, tags={}, user_id=None, version=4>"
      ]
     },
     "execution_count": 33,
     "metadata": {},
     "output_type": "execute_result"
    }
   ],
   "source": [
    "from datetime import datetime\n",
    "\n",
    "date = datetime.today().date()\n",
    "client.update_model_version(\n",
    "    name=model_name,\n",
    "    version=model_version,\n",
    "    description=f\"The model version {model_version} was transitioned to {new_stage} on {date}\"\n",
    ")"
   ]
  },
  {
   "cell_type": "code",
   "execution_count": null,
   "metadata": {},
   "outputs": [],
   "source": []
  },
  {
   "cell_type": "markdown",
   "metadata": {},
   "source": [
    "### Comparing versions and selecting the new \"Production\" model\n",
    "\n",
    "In the last section, we will retrieve models registered in the model registry and compare their performance on an unseen test set. The idea is to simulate the scenario in which a deployment engineer has to interact with the model registry to decide whether to update the model version that is in production or not.\n",
    "\n",
    "These are the steps:\n",
    "\n",
    "1. Load the test dataset, which corresponds to the NYC Green Taxi data from the month of March 2021.\n",
    "2. Download the `DictVectorizer` that was fitted using the training data and saved to MLflow as an artifact, and load it with pickle.\n",
    "3. Preprocess the test set using the `DictVectorizer` so we can properly feed the regressors.\n",
    "4. Make predictions on the test set using the model versions that are currently in the \"Staging\" and \"Production\" stages, and compare their performance.\n",
    "5. Based on the results, update the \"Production\" model version accordingly.\n",
    "\n",
    "\n",
    "**Note: the model registry doesn't actually deploy the model to production when you transition a model to the \"Production\" stage, it just assign a label to that model version. You should complement the registry with some CI/CD code that does the actual deployment.**"
   ]
  },
  {
   "cell_type": "code",
   "execution_count": 34,
   "metadata": {},
   "outputs": [],
   "source": [
    "from sklearn.metrics import mean_squared_error\n",
    "import pandas as pd\n",
    "\n",
    "\n",
    "def read_dataframe(filename):\n",
    "    df = pd.read_csv(filename)\n",
    "\n",
    "    df.lpep_dropoff_datetime = pd.to_datetime(df.lpep_dropoff_datetime)\n",
    "    df.lpep_pickup_datetime = pd.to_datetime(df.lpep_pickup_datetime)\n",
    "\n",
    "    df['duration'] = df.lpep_dropoff_datetime - df.lpep_pickup_datetime\n",
    "    df.duration = df.duration.apply(lambda td: td.total_seconds() / 60)\n",
    "\n",
    "    df = df[(df.duration >= 1) & (df.duration <= 60)]\n",
    "\n",
    "    categorical = ['PULocationID', 'DOLocationID']\n",
    "    df[categorical] = df[categorical].astype(str)\n",
    "    \n",
    "    return df\n",
    "\n",
    "\n",
    "def preprocess(df, dv):\n",
    "    df['PU_DO'] = df['PULocationID'] + '_' + df['DOLocationID']\n",
    "    categorical = ['PU_DO']\n",
    "    numerical = ['trip_distance']\n",
    "    train_dicts = df[categorical + numerical].to_dict(orient='records')\n",
    "    return dv.transform(train_dicts)\n",
    "\n",
    "\n",
    "def test_model(name, stage, X_test, y_test):\n",
    "    model = mlflow.pyfunc.load_model(f\"models:/{name}/{stage}\")\n",
    "    y_pred = model.predict(X_test)\n",
    "    return {\"rmse\": mean_squared_error(y_test, y_pred, squared=False)}"
   ]
  },
  {
   "cell_type": "code",
   "execution_count": null,
   "metadata": {},
   "outputs": [],
   "source": []
  },
  {
   "cell_type": "code",
   "execution_count": 36,
   "metadata": {},
   "outputs": [
    {
     "name": "stderr",
     "output_type": "stream",
     "text": [
      "/var/folders/42/f9s_rgk15078ym2w50_xtc180000gq/T/ipykernel_5486/3050441246.py:6: DtypeWarning: Columns (3) have mixed types. Specify dtype option on import or set low_memory=False.\n",
      "  df = pd.read_csv(filename)\n"
     ]
    }
   ],
   "source": [
    "df = read_dataframe(\"data/green_tripdata_2021-03.csv\")"
   ]
  },
  {
   "cell_type": "code",
   "execution_count": 37,
   "metadata": {},
   "outputs": [
    {
     "data": {
      "text/plain": [
       "'/Users/cristian.martinez/Repositories/mlops-zoomcamp/02-experiment-tracking/preprocessor'"
      ]
     },
     "execution_count": 37,
     "metadata": {},
     "output_type": "execute_result"
    }
   ],
   "source": [
    "client.download_artifacts(run_id=run_id, path='preprocessor', dst_path='.')"
   ]
  },
  {
   "cell_type": "code",
   "execution_count": 38,
   "metadata": {},
   "outputs": [],
   "source": [
    "import pickle\n",
    "\n",
    "with open(\"preprocessor/preprocessor.b\", \"rb\") as f_in:\n",
    "    dv = pickle.load(f_in)"
   ]
  },
  {
   "cell_type": "code",
   "execution_count": 39,
   "metadata": {},
   "outputs": [],
   "source": [
    "X_test = preprocess(df, dv)"
   ]
  },
  {
   "cell_type": "code",
   "execution_count": 40,
   "metadata": {},
   "outputs": [],
   "source": [
    "target = \"duration\"\n",
    "y_test = df[target].values"
   ]
  },
  {
   "cell_type": "code",
   "execution_count": null,
   "metadata": {},
   "outputs": [],
   "source": []
  },
  {
   "cell_type": "code",
   "execution_count": 41,
   "metadata": {},
   "outputs": [
    {
     "name": "stdout",
     "output_type": "stream",
     "text": [
      "CPU times: user 139 ms, sys: 44.6 ms, total: 183 ms\n",
      "Wall time: 447 ms\n"
     ]
    },
    {
     "data": {
      "text/plain": [
       "{'rmse': 6.659623830022514}"
      ]
     },
     "execution_count": 41,
     "metadata": {},
     "output_type": "execute_result"
    }
   ],
   "source": [
    "%time test_model(name=model_name, stage=\"Production\", X_test=X_test, y_test=y_test)"
   ]
  },
  {
   "cell_type": "code",
   "execution_count": 42,
   "metadata": {},
   "outputs": [
    {
     "name": "stdout",
     "output_type": "stream",
     "text": [
      "CPU times: user 6.94 s, sys: 216 ms, total: 7.16 s\n",
      "Wall time: 7.28 s\n"
     ]
    },
    {
     "data": {
      "text/plain": [
       "{'rmse': 6.881555517147188}"
      ]
     },
     "execution_count": 42,
     "metadata": {},
     "output_type": "execute_result"
    }
   ],
   "source": [
    "%time test_model(name=model_name, stage=\"Staging\", X_test=X_test, y_test=y_test)"
   ]
  },
  {
   "cell_type": "code",
   "execution_count": 43,
   "metadata": {},
   "outputs": [
    {
     "data": {
      "text/plain": [
       "<ModelVersion: creation_timestamp=1652971637398, current_stage='Production', description='The model version 4 was transitioned to Staging on 2022-05-19', last_updated_timestamp=1652972763255, name='nyc-taxi-regressor', run_id='b8904012c84343b5bf8ee72aa8f0f402', run_link=None, source='./mlruns/1/b8904012c84343b5bf8ee72aa8f0f402/artifacts/model', status='READY', status_message=None, tags={}, user_id=None, version=4>"
      ]
     },
     "execution_count": 43,
     "metadata": {},
     "output_type": "execute_result"
    }
   ],
   "source": [
    "client.transition_model_version_stage(\n",
    "    name=model_name,\n",
    "    version=4,\n",
    "    stage=\"Production\",\n",
    "    archive_existing_versions=True\n",
    ")"
   ]
  },
  {
   "cell_type": "code",
   "execution_count": 31,
   "metadata": {},
   "outputs": [
    {
     "data": {
      "text/plain": [
       "'16'"
      ]
     },
     "execution_count": 31,
     "metadata": {},
     "output_type": "execute_result"
    }
   ],
   "source": [
    "mlflow.set_tracking_uri(\"sqlite:///mlflow.db\")\n",
    "mlflow.create_experiment(name=\"MLOPS_Zaydoun\")"
   ]
  },
  {
   "cell_type": "code",
   "execution_count": null,
   "metadata": {},
   "outputs": [],
   "source": []
  },
  {
   "cell_type": "code",
   "execution_count": null,
   "metadata": {},
   "outputs": [],
   "source": []
  }
 ],
 "metadata": {
  "interpreter": {
   "hash": "0848c9d6c7d415ad6c477ff7ff8e98694d1a4aa96d0deee89244642e6b630036"
  },
  "kernelspec": {
   "display_name": "Python 3.9.12 ('exp-tracking-env')",
   "language": "python",
   "name": "python3"
  },
  "language_info": {
   "codemirror_mode": {
    "name": "ipython",
    "version": 3
   },
   "file_extension": ".py",
   "mimetype": "text/x-python",
   "name": "python",
   "nbconvert_exporter": "python",
   "pygments_lexer": "ipython3",
   "version": "3.11.3"
  },
  "orig_nbformat": 4
 },
 "nbformat": 4,
 "nbformat_minor": 2
}
